{
 "cells": [
  {
   "cell_type": "markdown",
   "id": "013b3335",
   "metadata": {},
   "source": [
    "## installs"
   ]
  },
  {
   "cell_type": "code",
   "execution_count": 1,
   "id": "ea5c873c",
   "metadata": {},
   "outputs": [
    {
     "name": "stdout",
     "output_type": "stream",
     "text": [
      "Requirement already satisfied: numpy in c:\\users\\vangs\\anaconda3\\lib\\site-packages (1.24.3)\n",
      "Requirement already satisfied: pandas in c:\\users\\vangs\\anaconda3\\lib\\site-packages (2.0.3)\n",
      "Requirement already satisfied: matplotlib in c:\\users\\vangs\\anaconda3\\lib\\site-packages (3.7.2)\n",
      "Requirement already satisfied: seaborn in c:\\users\\vangs\\anaconda3\\lib\\site-packages (0.12.2)\n",
      "Requirement already satisfied: python-dateutil>=2.8.2 in c:\\users\\vangs\\anaconda3\\lib\\site-packages (from pandas) (2.8.2)\n",
      "Requirement already satisfied: pytz>=2020.1 in c:\\users\\vangs\\anaconda3\\lib\\site-packages (from pandas) (2023.3.post1)\n",
      "Requirement already satisfied: tzdata>=2022.1 in c:\\users\\vangs\\anaconda3\\lib\\site-packages (from pandas) (2023.3)\n",
      "Requirement already satisfied: contourpy>=1.0.1 in c:\\users\\vangs\\anaconda3\\lib\\site-packages (from matplotlib) (1.0.5)\n",
      "Requirement already satisfied: cycler>=0.10 in c:\\users\\vangs\\anaconda3\\lib\\site-packages (from matplotlib) (0.11.0)\n",
      "Requirement already satisfied: fonttools>=4.22.0 in c:\\users\\vangs\\anaconda3\\lib\\site-packages (from matplotlib) (4.25.0)\n",
      "Requirement already satisfied: kiwisolver>=1.0.1 in c:\\users\\vangs\\anaconda3\\lib\\site-packages (from matplotlib) (1.4.4)\n",
      "Requirement already satisfied: packaging>=20.0 in c:\\users\\vangs\\anaconda3\\lib\\site-packages (from matplotlib) (23.1)\n",
      "Requirement already satisfied: pillow>=6.2.0 in c:\\users\\vangs\\anaconda3\\lib\\site-packages (from matplotlib) (10.0.1)\n",
      "Requirement already satisfied: pyparsing<3.1,>=2.3.1 in c:\\users\\vangs\\anaconda3\\lib\\site-packages (from matplotlib) (3.0.9)\n",
      "Requirement already satisfied: six>=1.5 in c:\\users\\vangs\\anaconda3\\lib\\site-packages (from python-dateutil>=2.8.2->pandas) (1.16.0)\n"
     ]
    }
   ],
   "source": [
    "!pip install numpy pandas matplotlib seaborn"
   ]
  },
  {
   "cell_type": "markdown",
   "id": "a292aec8",
   "metadata": {},
   "source": [
    "## Handling imports"
   ]
  },
  {
   "cell_type": "code",
   "execution_count": 2,
   "id": "44130d23",
   "metadata": {},
   "outputs": [],
   "source": [
    "import numpy as np"
   ]
  },
  {
   "cell_type": "code",
   "execution_count": 3,
   "id": "1dac74ed",
   "metadata": {},
   "outputs": [],
   "source": [
    "import pandas as pd"
   ]
  },
  {
   "cell_type": "code",
   "execution_count": 4,
   "id": "36c43ba3",
   "metadata": {},
   "outputs": [],
   "source": [
    "import seaborn as sns"
   ]
  },
  {
   "cell_type": "code",
   "execution_count": 5,
   "id": "bba2dee2",
   "metadata": {},
   "outputs": [],
   "source": [
    "import matplotlib.pyplot as plt"
   ]
  },
  {
   "cell_type": "markdown",
   "id": "b8c33126",
   "metadata": {},
   "source": [
    "## Start of code"
   ]
  },
  {
   "cell_type": "code",
   "execution_count": 6,
   "id": "38e6d2a4",
   "metadata": {},
   "outputs": [],
   "source": [
    "accidents_df = pd.read_csv(\"US_Accidents_March23_sampled_500k.csv\")"
   ]
  },
  {
   "cell_type": "code",
   "execution_count": 7,
   "id": "8c52fd3b",
   "metadata": {},
   "outputs": [
    {
     "data": {
      "text/html": [
       "<div>\n",
       "<style scoped>\n",
       "    .dataframe tbody tr th:only-of-type {\n",
       "        vertical-align: middle;\n",
       "    }\n",
       "\n",
       "    .dataframe tbody tr th {\n",
       "        vertical-align: top;\n",
       "    }\n",
       "\n",
       "    .dataframe thead th {\n",
       "        text-align: right;\n",
       "    }\n",
       "</style>\n",
       "<table border=\"1\" class=\"dataframe\">\n",
       "  <thead>\n",
       "    <tr style=\"text-align: right;\">\n",
       "      <th></th>\n",
       "      <th>ID</th>\n",
       "      <th>Source</th>\n",
       "      <th>Severity</th>\n",
       "      <th>Start_Time</th>\n",
       "      <th>End_Time</th>\n",
       "      <th>Start_Lat</th>\n",
       "      <th>Start_Lng</th>\n",
       "      <th>End_Lat</th>\n",
       "      <th>End_Lng</th>\n",
       "      <th>Distance(mi)</th>\n",
       "      <th>...</th>\n",
       "      <th>Roundabout</th>\n",
       "      <th>Station</th>\n",
       "      <th>Stop</th>\n",
       "      <th>Traffic_Calming</th>\n",
       "      <th>Traffic_Signal</th>\n",
       "      <th>Turning_Loop</th>\n",
       "      <th>Sunrise_Sunset</th>\n",
       "      <th>Civil_Twilight</th>\n",
       "      <th>Nautical_Twilight</th>\n",
       "      <th>Astronomical_Twilight</th>\n",
       "    </tr>\n",
       "  </thead>\n",
       "  <tbody>\n",
       "    <tr>\n",
       "      <th>0</th>\n",
       "      <td>A-2047758</td>\n",
       "      <td>Source2</td>\n",
       "      <td>2</td>\n",
       "      <td>2019-06-12 10:10:56</td>\n",
       "      <td>2019-06-12 10:55:58</td>\n",
       "      <td>30.641211</td>\n",
       "      <td>-91.153481</td>\n",
       "      <td>NaN</td>\n",
       "      <td>NaN</td>\n",
       "      <td>0.000</td>\n",
       "      <td>...</td>\n",
       "      <td>False</td>\n",
       "      <td>False</td>\n",
       "      <td>False</td>\n",
       "      <td>False</td>\n",
       "      <td>True</td>\n",
       "      <td>False</td>\n",
       "      <td>Day</td>\n",
       "      <td>Day</td>\n",
       "      <td>Day</td>\n",
       "      <td>Day</td>\n",
       "    </tr>\n",
       "    <tr>\n",
       "      <th>1</th>\n",
       "      <td>A-4694324</td>\n",
       "      <td>Source1</td>\n",
       "      <td>2</td>\n",
       "      <td>2022-12-03 23:37:14.000000000</td>\n",
       "      <td>2022-12-04 01:56:53.000000000</td>\n",
       "      <td>38.990562</td>\n",
       "      <td>-77.399070</td>\n",
       "      <td>38.990037</td>\n",
       "      <td>-77.398282</td>\n",
       "      <td>0.056</td>\n",
       "      <td>...</td>\n",
       "      <td>False</td>\n",
       "      <td>False</td>\n",
       "      <td>False</td>\n",
       "      <td>False</td>\n",
       "      <td>False</td>\n",
       "      <td>False</td>\n",
       "      <td>Night</td>\n",
       "      <td>Night</td>\n",
       "      <td>Night</td>\n",
       "      <td>Night</td>\n",
       "    </tr>\n",
       "    <tr>\n",
       "      <th>2</th>\n",
       "      <td>A-5006183</td>\n",
       "      <td>Source1</td>\n",
       "      <td>2</td>\n",
       "      <td>2022-08-20 13:13:00.000000000</td>\n",
       "      <td>2022-08-20 15:22:45.000000000</td>\n",
       "      <td>34.661189</td>\n",
       "      <td>-120.492822</td>\n",
       "      <td>34.661189</td>\n",
       "      <td>-120.492442</td>\n",
       "      <td>0.022</td>\n",
       "      <td>...</td>\n",
       "      <td>False</td>\n",
       "      <td>False</td>\n",
       "      <td>False</td>\n",
       "      <td>False</td>\n",
       "      <td>True</td>\n",
       "      <td>False</td>\n",
       "      <td>Day</td>\n",
       "      <td>Day</td>\n",
       "      <td>Day</td>\n",
       "      <td>Day</td>\n",
       "    </tr>\n",
       "    <tr>\n",
       "      <th>3</th>\n",
       "      <td>A-4237356</td>\n",
       "      <td>Source1</td>\n",
       "      <td>2</td>\n",
       "      <td>2022-02-21 17:43:04</td>\n",
       "      <td>2022-02-21 19:43:23</td>\n",
       "      <td>43.680592</td>\n",
       "      <td>-92.993317</td>\n",
       "      <td>43.680574</td>\n",
       "      <td>-92.972223</td>\n",
       "      <td>1.054</td>\n",
       "      <td>...</td>\n",
       "      <td>False</td>\n",
       "      <td>False</td>\n",
       "      <td>False</td>\n",
       "      <td>False</td>\n",
       "      <td>False</td>\n",
       "      <td>False</td>\n",
       "      <td>Day</td>\n",
       "      <td>Day</td>\n",
       "      <td>Day</td>\n",
       "      <td>Day</td>\n",
       "    </tr>\n",
       "    <tr>\n",
       "      <th>4</th>\n",
       "      <td>A-6690583</td>\n",
       "      <td>Source1</td>\n",
       "      <td>2</td>\n",
       "      <td>2020-12-04 01:46:00</td>\n",
       "      <td>2020-12-04 04:13:09</td>\n",
       "      <td>35.395484</td>\n",
       "      <td>-118.985176</td>\n",
       "      <td>35.395476</td>\n",
       "      <td>-118.985995</td>\n",
       "      <td>0.046</td>\n",
       "      <td>...</td>\n",
       "      <td>False</td>\n",
       "      <td>False</td>\n",
       "      <td>False</td>\n",
       "      <td>False</td>\n",
       "      <td>False</td>\n",
       "      <td>False</td>\n",
       "      <td>Night</td>\n",
       "      <td>Night</td>\n",
       "      <td>Night</td>\n",
       "      <td>Night</td>\n",
       "    </tr>\n",
       "  </tbody>\n",
       "</table>\n",
       "<p>5 rows × 46 columns</p>\n",
       "</div>"
      ],
      "text/plain": [
       "          ID   Source  Severity                     Start_Time  \\\n",
       "0  A-2047758  Source2         2            2019-06-12 10:10:56   \n",
       "1  A-4694324  Source1         2  2022-12-03 23:37:14.000000000   \n",
       "2  A-5006183  Source1         2  2022-08-20 13:13:00.000000000   \n",
       "3  A-4237356  Source1         2            2022-02-21 17:43:04   \n",
       "4  A-6690583  Source1         2            2020-12-04 01:46:00   \n",
       "\n",
       "                        End_Time  Start_Lat   Start_Lng    End_Lat  \\\n",
       "0            2019-06-12 10:55:58  30.641211  -91.153481        NaN   \n",
       "1  2022-12-04 01:56:53.000000000  38.990562  -77.399070  38.990037   \n",
       "2  2022-08-20 15:22:45.000000000  34.661189 -120.492822  34.661189   \n",
       "3            2022-02-21 19:43:23  43.680592  -92.993317  43.680574   \n",
       "4            2020-12-04 04:13:09  35.395484 -118.985176  35.395476   \n",
       "\n",
       "      End_Lng  Distance(mi)  ... Roundabout Station   Stop Traffic_Calming  \\\n",
       "0         NaN         0.000  ...      False   False  False           False   \n",
       "1  -77.398282         0.056  ...      False   False  False           False   \n",
       "2 -120.492442         0.022  ...      False   False  False           False   \n",
       "3  -92.972223         1.054  ...      False   False  False           False   \n",
       "4 -118.985995         0.046  ...      False   False  False           False   \n",
       "\n",
       "  Traffic_Signal Turning_Loop Sunrise_Sunset Civil_Twilight Nautical_Twilight  \\\n",
       "0           True        False            Day            Day               Day   \n",
       "1          False        False          Night          Night             Night   \n",
       "2           True        False            Day            Day               Day   \n",
       "3          False        False            Day            Day               Day   \n",
       "4          False        False          Night          Night             Night   \n",
       "\n",
       "  Astronomical_Twilight  \n",
       "0                   Day  \n",
       "1                 Night  \n",
       "2                   Day  \n",
       "3                   Day  \n",
       "4                 Night  \n",
       "\n",
       "[5 rows x 46 columns]"
      ]
     },
     "execution_count": 7,
     "metadata": {},
     "output_type": "execute_result"
    }
   ],
   "source": [
    "accidents_df.head()"
   ]
  },
  {
   "cell_type": "code",
   "execution_count": 8,
   "id": "dce8b3f0",
   "metadata": {},
   "outputs": [
    {
     "data": {
      "text/plain": [
       "Index(['ID', 'Source', 'Severity', 'Start_Time', 'End_Time', 'Start_Lat',\n",
       "       'Start_Lng', 'End_Lat', 'End_Lng', 'Distance(mi)', 'Description',\n",
       "       'Street', 'City', 'County', 'State', 'Zipcode', 'Country', 'Timezone',\n",
       "       'Airport_Code', 'Weather_Timestamp', 'Temperature(F)', 'Wind_Chill(F)',\n",
       "       'Humidity(%)', 'Pressure(in)', 'Visibility(mi)', 'Wind_Direction',\n",
       "       'Wind_Speed(mph)', 'Precipitation(in)', 'Weather_Condition', 'Amenity',\n",
       "       'Bump', 'Crossing', 'Give_Way', 'Junction', 'No_Exit', 'Railway',\n",
       "       'Roundabout', 'Station', 'Stop', 'Traffic_Calming', 'Traffic_Signal',\n",
       "       'Turning_Loop', 'Sunrise_Sunset', 'Civil_Twilight', 'Nautical_Twilight',\n",
       "       'Astronomical_Twilight'],\n",
       "      dtype='object')"
      ]
     },
     "execution_count": 8,
     "metadata": {},
     "output_type": "execute_result"
    }
   ],
   "source": [
    "accidents_df.columns"
   ]
  },
  {
   "cell_type": "markdown",
   "id": "9ae20873",
   "metadata": {},
   "source": [
    "### Dropping unusable columns for problem"
   ]
  },
  {
   "cell_type": "code",
   "execution_count": 9,
   "id": "39c8280b",
   "metadata": {},
   "outputs": [],
   "source": [
    "accidents_df.columns = accidents_df.columns.str.lower()"
   ]
  },
  {
   "cell_type": "code",
   "execution_count": 10,
   "id": "5e39bae3",
   "metadata": {},
   "outputs": [
    {
     "data": {
      "text/html": [
       "<div>\n",
       "<style scoped>\n",
       "    .dataframe tbody tr th:only-of-type {\n",
       "        vertical-align: middle;\n",
       "    }\n",
       "\n",
       "    .dataframe tbody tr th {\n",
       "        vertical-align: top;\n",
       "    }\n",
       "\n",
       "    .dataframe thead th {\n",
       "        text-align: right;\n",
       "    }\n",
       "</style>\n",
       "<table border=\"1\" class=\"dataframe\">\n",
       "  <thead>\n",
       "    <tr style=\"text-align: right;\">\n",
       "      <th></th>\n",
       "      <th>id</th>\n",
       "      <th>source</th>\n",
       "      <th>severity</th>\n",
       "      <th>start_time</th>\n",
       "      <th>end_time</th>\n",
       "      <th>start_lat</th>\n",
       "      <th>start_lng</th>\n",
       "      <th>end_lat</th>\n",
       "      <th>end_lng</th>\n",
       "      <th>distance(mi)</th>\n",
       "      <th>...</th>\n",
       "      <th>roundabout</th>\n",
       "      <th>station</th>\n",
       "      <th>stop</th>\n",
       "      <th>traffic_calming</th>\n",
       "      <th>traffic_signal</th>\n",
       "      <th>turning_loop</th>\n",
       "      <th>sunrise_sunset</th>\n",
       "      <th>civil_twilight</th>\n",
       "      <th>nautical_twilight</th>\n",
       "      <th>astronomical_twilight</th>\n",
       "    </tr>\n",
       "  </thead>\n",
       "  <tbody>\n",
       "    <tr>\n",
       "      <th>0</th>\n",
       "      <td>A-2047758</td>\n",
       "      <td>Source2</td>\n",
       "      <td>2</td>\n",
       "      <td>2019-06-12 10:10:56</td>\n",
       "      <td>2019-06-12 10:55:58</td>\n",
       "      <td>30.641211</td>\n",
       "      <td>-91.153481</td>\n",
       "      <td>NaN</td>\n",
       "      <td>NaN</td>\n",
       "      <td>0.000</td>\n",
       "      <td>...</td>\n",
       "      <td>False</td>\n",
       "      <td>False</td>\n",
       "      <td>False</td>\n",
       "      <td>False</td>\n",
       "      <td>True</td>\n",
       "      <td>False</td>\n",
       "      <td>Day</td>\n",
       "      <td>Day</td>\n",
       "      <td>Day</td>\n",
       "      <td>Day</td>\n",
       "    </tr>\n",
       "    <tr>\n",
       "      <th>1</th>\n",
       "      <td>A-4694324</td>\n",
       "      <td>Source1</td>\n",
       "      <td>2</td>\n",
       "      <td>2022-12-03 23:37:14.000000000</td>\n",
       "      <td>2022-12-04 01:56:53.000000000</td>\n",
       "      <td>38.990562</td>\n",
       "      <td>-77.399070</td>\n",
       "      <td>38.990037</td>\n",
       "      <td>-77.398282</td>\n",
       "      <td>0.056</td>\n",
       "      <td>...</td>\n",
       "      <td>False</td>\n",
       "      <td>False</td>\n",
       "      <td>False</td>\n",
       "      <td>False</td>\n",
       "      <td>False</td>\n",
       "      <td>False</td>\n",
       "      <td>Night</td>\n",
       "      <td>Night</td>\n",
       "      <td>Night</td>\n",
       "      <td>Night</td>\n",
       "    </tr>\n",
       "    <tr>\n",
       "      <th>2</th>\n",
       "      <td>A-5006183</td>\n",
       "      <td>Source1</td>\n",
       "      <td>2</td>\n",
       "      <td>2022-08-20 13:13:00.000000000</td>\n",
       "      <td>2022-08-20 15:22:45.000000000</td>\n",
       "      <td>34.661189</td>\n",
       "      <td>-120.492822</td>\n",
       "      <td>34.661189</td>\n",
       "      <td>-120.492442</td>\n",
       "      <td>0.022</td>\n",
       "      <td>...</td>\n",
       "      <td>False</td>\n",
       "      <td>False</td>\n",
       "      <td>False</td>\n",
       "      <td>False</td>\n",
       "      <td>True</td>\n",
       "      <td>False</td>\n",
       "      <td>Day</td>\n",
       "      <td>Day</td>\n",
       "      <td>Day</td>\n",
       "      <td>Day</td>\n",
       "    </tr>\n",
       "    <tr>\n",
       "      <th>3</th>\n",
       "      <td>A-4237356</td>\n",
       "      <td>Source1</td>\n",
       "      <td>2</td>\n",
       "      <td>2022-02-21 17:43:04</td>\n",
       "      <td>2022-02-21 19:43:23</td>\n",
       "      <td>43.680592</td>\n",
       "      <td>-92.993317</td>\n",
       "      <td>43.680574</td>\n",
       "      <td>-92.972223</td>\n",
       "      <td>1.054</td>\n",
       "      <td>...</td>\n",
       "      <td>False</td>\n",
       "      <td>False</td>\n",
       "      <td>False</td>\n",
       "      <td>False</td>\n",
       "      <td>False</td>\n",
       "      <td>False</td>\n",
       "      <td>Day</td>\n",
       "      <td>Day</td>\n",
       "      <td>Day</td>\n",
       "      <td>Day</td>\n",
       "    </tr>\n",
       "    <tr>\n",
       "      <th>4</th>\n",
       "      <td>A-6690583</td>\n",
       "      <td>Source1</td>\n",
       "      <td>2</td>\n",
       "      <td>2020-12-04 01:46:00</td>\n",
       "      <td>2020-12-04 04:13:09</td>\n",
       "      <td>35.395484</td>\n",
       "      <td>-118.985176</td>\n",
       "      <td>35.395476</td>\n",
       "      <td>-118.985995</td>\n",
       "      <td>0.046</td>\n",
       "      <td>...</td>\n",
       "      <td>False</td>\n",
       "      <td>False</td>\n",
       "      <td>False</td>\n",
       "      <td>False</td>\n",
       "      <td>False</td>\n",
       "      <td>False</td>\n",
       "      <td>Night</td>\n",
       "      <td>Night</td>\n",
       "      <td>Night</td>\n",
       "      <td>Night</td>\n",
       "    </tr>\n",
       "  </tbody>\n",
       "</table>\n",
       "<p>5 rows × 46 columns</p>\n",
       "</div>"
      ],
      "text/plain": [
       "          id   source  severity                     start_time  \\\n",
       "0  A-2047758  Source2         2            2019-06-12 10:10:56   \n",
       "1  A-4694324  Source1         2  2022-12-03 23:37:14.000000000   \n",
       "2  A-5006183  Source1         2  2022-08-20 13:13:00.000000000   \n",
       "3  A-4237356  Source1         2            2022-02-21 17:43:04   \n",
       "4  A-6690583  Source1         2            2020-12-04 01:46:00   \n",
       "\n",
       "                        end_time  start_lat   start_lng    end_lat  \\\n",
       "0            2019-06-12 10:55:58  30.641211  -91.153481        NaN   \n",
       "1  2022-12-04 01:56:53.000000000  38.990562  -77.399070  38.990037   \n",
       "2  2022-08-20 15:22:45.000000000  34.661189 -120.492822  34.661189   \n",
       "3            2022-02-21 19:43:23  43.680592  -92.993317  43.680574   \n",
       "4            2020-12-04 04:13:09  35.395484 -118.985176  35.395476   \n",
       "\n",
       "      end_lng  distance(mi)  ... roundabout station   stop traffic_calming  \\\n",
       "0         NaN         0.000  ...      False   False  False           False   \n",
       "1  -77.398282         0.056  ...      False   False  False           False   \n",
       "2 -120.492442         0.022  ...      False   False  False           False   \n",
       "3  -92.972223         1.054  ...      False   False  False           False   \n",
       "4 -118.985995         0.046  ...      False   False  False           False   \n",
       "\n",
       "  traffic_signal turning_loop sunrise_sunset civil_twilight nautical_twilight  \\\n",
       "0           True        False            Day            Day               Day   \n",
       "1          False        False          Night          Night             Night   \n",
       "2           True        False            Day            Day               Day   \n",
       "3          False        False            Day            Day               Day   \n",
       "4          False        False          Night          Night             Night   \n",
       "\n",
       "  astronomical_twilight  \n",
       "0                   Day  \n",
       "1                 Night  \n",
       "2                   Day  \n",
       "3                   Day  \n",
       "4                 Night  \n",
       "\n",
       "[5 rows x 46 columns]"
      ]
     },
     "execution_count": 10,
     "metadata": {},
     "output_type": "execute_result"
    }
   ],
   "source": [
    "accidents_df.head()"
   ]
  },
  {
   "cell_type": "code",
   "execution_count": 11,
   "id": "1d064a13",
   "metadata": {
    "scrolled": true
   },
   "outputs": [
    {
     "data": {
      "text/plain": [
       "id                            0\n",
       "source                        0\n",
       "severity                      0\n",
       "start_time                    0\n",
       "end_time                      0\n",
       "start_lat                     0\n",
       "start_lng                     0\n",
       "end_lat                  220377\n",
       "end_lng                  220377\n",
       "distance(mi)                  0\n",
       "description                   1\n",
       "street                      691\n",
       "city                         19\n",
       "county                        0\n",
       "state                         0\n",
       "zipcode                     116\n",
       "country                       0\n",
       "timezone                    507\n",
       "airport_code               1446\n",
       "weather_timestamp          7674\n",
       "temperature(f)            10466\n",
       "wind_chill(f)            129017\n",
       "humidity(%)               11130\n",
       "pressure(in)               8928\n",
       "visibility(mi)            11291\n",
       "wind_direction            11197\n",
       "wind_speed(mph)           36987\n",
       "precipitation(in)        142616\n",
       "weather_condition         11101\n",
       "amenity                       0\n",
       "bump                          0\n",
       "crossing                      0\n",
       "give_way                      0\n",
       "junction                      0\n",
       "no_exit                       0\n",
       "railway                       0\n",
       "roundabout                    0\n",
       "station                       0\n",
       "stop                          0\n",
       "traffic_calming               0\n",
       "traffic_signal                0\n",
       "turning_loop                  0\n",
       "sunrise_sunset             1483\n",
       "civil_twilight             1483\n",
       "nautical_twilight          1483\n",
       "astronomical_twilight      1483\n",
       "dtype: int64"
      ]
     },
     "execution_count": 11,
     "metadata": {},
     "output_type": "execute_result"
    }
   ],
   "source": [
    "accidents_df.isna().sum()"
   ]
  },
  {
   "cell_type": "code",
   "execution_count": 12,
   "id": "aeb6cbd7",
   "metadata": {},
   "outputs": [],
   "source": [
    "columns_to_keep = ['severity' , 'start_time' , 'city' , 'state' , 'visibility(mi)' , 'precipitation(in)' , 'weather_condition']"
   ]
  },
  {
   "cell_type": "code",
   "execution_count": 13,
   "id": "da4c11f0",
   "metadata": {},
   "outputs": [],
   "source": [
    "accidents_subset = accidents_df[columns_to_keep]"
   ]
  },
  {
   "cell_type": "code",
   "execution_count": 14,
   "id": "11f37664",
   "metadata": {},
   "outputs": [
    {
     "data": {
      "text/plain": [
       "(500000, 7)"
      ]
     },
     "execution_count": 14,
     "metadata": {},
     "output_type": "execute_result"
    }
   ],
   "source": [
    "accidents_subset.shape"
   ]
  },
  {
   "cell_type": "code",
   "execution_count": 15,
   "id": "dbcfeff7",
   "metadata": {},
   "outputs": [
    {
     "data": {
      "text/html": [
       "<div>\n",
       "<style scoped>\n",
       "    .dataframe tbody tr th:only-of-type {\n",
       "        vertical-align: middle;\n",
       "    }\n",
       "\n",
       "    .dataframe tbody tr th {\n",
       "        vertical-align: top;\n",
       "    }\n",
       "\n",
       "    .dataframe thead th {\n",
       "        text-align: right;\n",
       "    }\n",
       "</style>\n",
       "<table border=\"1\" class=\"dataframe\">\n",
       "  <thead>\n",
       "    <tr style=\"text-align: right;\">\n",
       "      <th></th>\n",
       "      <th>severity</th>\n",
       "      <th>start_time</th>\n",
       "      <th>city</th>\n",
       "      <th>state</th>\n",
       "      <th>visibility(mi)</th>\n",
       "      <th>precipitation(in)</th>\n",
       "      <th>weather_condition</th>\n",
       "    </tr>\n",
       "  </thead>\n",
       "  <tbody>\n",
       "    <tr>\n",
       "      <th>0</th>\n",
       "      <td>2</td>\n",
       "      <td>2019-06-12 10:10:56</td>\n",
       "      <td>Zachary</td>\n",
       "      <td>LA</td>\n",
       "      <td>10.0</td>\n",
       "      <td>0.0</td>\n",
       "      <td>Fair</td>\n",
       "    </tr>\n",
       "    <tr>\n",
       "      <th>1</th>\n",
       "      <td>2</td>\n",
       "      <td>2022-12-03 23:37:14.000000000</td>\n",
       "      <td>Sterling</td>\n",
       "      <td>VA</td>\n",
       "      <td>10.0</td>\n",
       "      <td>0.0</td>\n",
       "      <td>Fair</td>\n",
       "    </tr>\n",
       "    <tr>\n",
       "      <th>2</th>\n",
       "      <td>2</td>\n",
       "      <td>2022-08-20 13:13:00.000000000</td>\n",
       "      <td>Lompoc</td>\n",
       "      <td>CA</td>\n",
       "      <td>10.0</td>\n",
       "      <td>0.0</td>\n",
       "      <td>Fair</td>\n",
       "    </tr>\n",
       "    <tr>\n",
       "      <th>3</th>\n",
       "      <td>2</td>\n",
       "      <td>2022-02-21 17:43:04</td>\n",
       "      <td>Austin</td>\n",
       "      <td>MN</td>\n",
       "      <td>10.0</td>\n",
       "      <td>0.0</td>\n",
       "      <td>Wintry Mix</td>\n",
       "    </tr>\n",
       "    <tr>\n",
       "      <th>4</th>\n",
       "      <td>2</td>\n",
       "      <td>2020-12-04 01:46:00</td>\n",
       "      <td>Bakersfield</td>\n",
       "      <td>CA</td>\n",
       "      <td>10.0</td>\n",
       "      <td>0.0</td>\n",
       "      <td>Fair</td>\n",
       "    </tr>\n",
       "  </tbody>\n",
       "</table>\n",
       "</div>"
      ],
      "text/plain": [
       "   severity                     start_time         city state  visibility(mi)  \\\n",
       "0         2            2019-06-12 10:10:56      Zachary    LA            10.0   \n",
       "1         2  2022-12-03 23:37:14.000000000     Sterling    VA            10.0   \n",
       "2         2  2022-08-20 13:13:00.000000000       Lompoc    CA            10.0   \n",
       "3         2            2022-02-21 17:43:04       Austin    MN            10.0   \n",
       "4         2            2020-12-04 01:46:00  Bakersfield    CA            10.0   \n",
       "\n",
       "   precipitation(in) weather_condition  \n",
       "0                0.0              Fair  \n",
       "1                0.0              Fair  \n",
       "2                0.0              Fair  \n",
       "3                0.0        Wintry Mix  \n",
       "4                0.0              Fair  "
      ]
     },
     "execution_count": 15,
     "metadata": {},
     "output_type": "execute_result"
    }
   ],
   "source": [
    "accidents_subset.head()\n"
   ]
  },
  {
   "cell_type": "code",
   "execution_count": 16,
   "id": "c9d05278",
   "metadata": {},
   "outputs": [
    {
     "data": {
      "text/plain": [
       "severity                  0\n",
       "start_time                0\n",
       "city                     19\n",
       "state                     0\n",
       "visibility(mi)        11291\n",
       "precipitation(in)    142616\n",
       "weather_condition     11101\n",
       "dtype: int64"
      ]
     },
     "execution_count": 16,
     "metadata": {},
     "output_type": "execute_result"
    }
   ],
   "source": [
    "accidents_subset.isna().sum()"
   ]
  },
  {
   "cell_type": "code",
   "execution_count": 17,
   "id": "a41c5fc2",
   "metadata": {},
   "outputs": [
    {
     "data": {
      "text/plain": [
       "array(['Fair', 'Wintry Mix', 'Light Rain', 'Cloudy', 'Mostly Cloudy',\n",
       "       'Partly Cloudy', 'Clear', 'Scattered Clouds', 'Fog', 'Overcast',\n",
       "       'Light Snow', 'T-Storm', nan, 'Thunderstorms and Rain', 'Thunder',\n",
       "       'Light Rain with Thunder', 'Rain', 'Showers in the Vicinity',\n",
       "       'Mostly Cloudy / Windy', 'Heavy Rain', 'Cloudy / Windy',\n",
       "       'Light Drizzle', 'Heavy T-Storm', 'Light Rain / Windy', 'Smoke',\n",
       "       'Haze', 'Blowing Dust / Windy', 'N/A Precipitation',\n",
       "       'Thunder in the Vicinity', 'Snow', 'Heavy Thunderstorms and Rain',\n",
       "       'Shallow Fog', 'Light Freezing Drizzle', 'Fair / Windy',\n",
       "       'Patches of Fog', 'Light Snow / Windy', 'Blowing Snow / Windy',\n",
       "       'Thunderstorm', 'Drizzle', 'T-Storm / Windy',\n",
       "       'Partly Cloudy / Windy', 'Heavy Rain / Windy',\n",
       "       'Heavy Snow / Windy', 'Mist', 'Light Thunderstorms and Rain',\n",
       "       'Rain / Windy', 'Light Freezing Rain', 'Heavy Snow',\n",
       "       'Light Ice Pellets', 'Heavy T-Storm / Windy', 'Heavy Drizzle',\n",
       "       'Sleet', 'Light Rain Shower', 'Haze / Windy', 'Snow and Sleet',\n",
       "       'Snow / Windy', 'Fog / Windy', 'Light Freezing Fog',\n",
       "       'Sleet / Windy', 'Light Sleet', 'Sand / Dust Whirlwinds',\n",
       "       'Squalls / Windy', 'Thunder / Wintry Mix', 'Light Haze',\n",
       "       'Freezing Drizzle', 'Light Hail', 'Blowing Snow', 'Blowing Dust',\n",
       "       'Drizzle and Fog', 'Thunder / Windy', 'Small Hail',\n",
       "       'Light Rain Showers', 'Ice Pellets', 'Funnel Cloud',\n",
       "       'Light Freezing Rain / Windy', 'Light Drizzle / Windy',\n",
       "       'Rain Shower', 'Partial Fog / Windy', 'Hail', 'Snow and Thunder',\n",
       "       'Rain Showers', 'Heavy Freezing Drizzle', 'Wintry Mix / Windy',\n",
       "       'Light Snow and Sleet', 'Freezing Rain', 'Light Snow Shower',\n",
       "       'Tornado', 'Widespread Dust', 'Light Snow with Thunder',\n",
       "       'Smoke / Windy', 'Widespread Dust / Windy', 'Light Snow Showers',\n",
       "       'Light Snow and Sleet / Windy', 'Snow and Sleet / Windy',\n",
       "       'Partial Fog', 'Drizzle / Windy', 'Heavy Sleet', 'Snow Grains',\n",
       "       'Squalls', 'Light Rain Shower / Windy',\n",
       "       'Light Thunderstorms and Snow', 'Light Snow Grains',\n",
       "       'Thunder and Hail', 'Drifting Snow / Windy', 'Volcanic Ash',\n",
       "       'Mist / Windy', 'Light Blowing Snow', 'Low Drifting Snow', 'Sand'],\n",
       "      dtype=object)"
      ]
     },
     "execution_count": 17,
     "metadata": {},
     "output_type": "execute_result"
    }
   ],
   "source": [
    "accidents_subset['weather_condition'].unique()"
   ]
  },
  {
   "cell_type": "code",
   "execution_count": 18,
   "id": "3ba89140",
   "metadata": {},
   "outputs": [
    {
     "data": {
      "text/plain": [
       "array([0.000e+00,       nan, 9.000e-02, 7.000e-02, 1.800e-01, 1.100e-01,\n",
       "       2.000e-02, 1.000e-02, 4.000e-02, 2.800e-01, 1.360e+00, 1.300e-01,\n",
       "       1.000e-01, 5.000e-02, 3.000e-02, 8.000e-02, 8.200e-01, 1.500e-01,\n",
       "       5.800e-01, 1.700e-01, 1.200e-01, 2.200e-01, 2.900e-01, 2.400e-01,\n",
       "       4.500e-01, 5.200e-01, 9.700e-01, 6.000e-02, 4.100e-01, 1.400e-01,\n",
       "       8.800e-01, 1.900e-01, 3.800e-01, 1.600e-01, 3.600e-01, 2.000e-01,\n",
       "       3.900e-01, 2.500e-01, 3.200e-01, 2.600e-01, 3.400e-01, 7.900e-01,\n",
       "       2.700e-01, 3.500e-01, 6.700e-01, 9.800e-01, 2.100e-01, 2.160e+00,\n",
       "       4.300e-01, 5.900e-01, 1.110e+00, 3.100e-01, 8.500e-01, 3.000e-01,\n",
       "       4.900e-01, 3.700e-01, 4.000e-01, 4.400e-01, 2.300e-01, 5.100e-01,\n",
       "       7.100e-01, 6.600e-01, 5.300e-01, 5.000e-01, 9.300e-01, 3.300e-01,\n",
       "       8.300e-01, 9.900e-01, 4.200e-01, 1.200e+00, 5.500e-01, 4.600e-01,\n",
       "       5.700e-01, 7.500e-01, 1.560e+00, 1.280e+00, 7.600e-01, 6.400e-01,\n",
       "       5.400e-01, 5.600e-01, 1.990e+00, 1.050e+00, 1.460e+00, 1.370e+00,\n",
       "       9.990e+00, 6.200e-01, 4.700e-01, 7.000e-01, 6.000e-01, 7.200e-01,\n",
       "       6.100e-01, 1.080e+00, 1.030e+00, 6.500e-01, 1.190e+00, 9.100e-01,\n",
       "       9.950e+00, 9.500e-01, 8.900e-01, 6.900e-01, 9.940e+00, 2.260e+00,\n",
       "       1.170e+00, 9.600e-01, 1.570e+00, 7.400e-01, 1.340e+00, 8.000e-01,\n",
       "       1.400e+00, 1.013e+01, 2.010e+00, 1.000e+00, 1.160e+00, 4.800e-01,\n",
       "       6.800e-01, 7.800e-01, 1.260e+00, 1.020e+00, 6.300e-01, 9.640e+00,\n",
       "       1.530e+00, 1.670e+00, 1.470e+00, 1.060e+00, 1.130e+00, 1.640e+00,\n",
       "       1.009e+01, 1.580e+00, 9.400e-01, 7.300e-01, 1.270e+00, 9.000e-01,\n",
       "       1.430e+00, 1.210e+00, 9.960e+00, 9.970e+00, 7.700e-01, 1.920e+00,\n",
       "       8.600e-01, 1.140e+00, 9.920e+00, 1.520e+00, 9.930e+00, 1.380e+00,\n",
       "       1.310e+00, 1.950e+00, 1.680e+00, 1.490e+00, 9.200e-01, 2.570e+00,\n",
       "       1.010e+00, 1.040e+00, 2.130e+00, 1.120e+00, 8.400e-01, 1.300e+00,\n",
       "       2.800e+00, 1.090e+00, 8.700e-01, 2.550e+00, 1.220e+00, 9.900e+00,\n",
       "       1.350e+00, 9.910e+00, 8.100e-01, 1.540e+00, 1.290e+00, 2.390e+00,\n",
       "       2.440e+00, 1.240e+00, 1.230e+00, 2.310e+00, 1.150e+00, 1.890e+00,\n",
       "       4.890e+00, 1.390e+00])"
      ]
     },
     "execution_count": 18,
     "metadata": {},
     "output_type": "execute_result"
    }
   ],
   "source": [
    "accidents_subset['precipitation(in)'].unique()"
   ]
  },
  {
   "cell_type": "code",
   "execution_count": 19,
   "id": "04dbce9d",
   "metadata": {},
   "outputs": [],
   "source": [
    "accidents_clean = accidents_subset.dropna(how = 'all', subset = ['visibility(mi)' , 'precipitation(in)' , 'weather_condition'])"
   ]
  },
  {
   "cell_type": "code",
   "execution_count": 20,
   "id": "b67d1ad8",
   "metadata": {},
   "outputs": [
    {
     "data": {
      "text/plain": [
       "severity                  0\n",
       "start_time                0\n",
       "city                     18\n",
       "state                     0\n",
       "visibility(mi)         2487\n",
       "precipitation(in)    133812\n",
       "weather_condition      2297\n",
       "dtype: int64"
      ]
     },
     "execution_count": 20,
     "metadata": {},
     "output_type": "execute_result"
    }
   ],
   "source": [
    "accidents_clean.isna().sum()"
   ]
  },
  {
   "cell_type": "code",
   "execution_count": 21,
   "id": "376f8982",
   "metadata": {},
   "outputs": [
    {
     "data": {
      "text/plain": [
       "array(['Fair', 'Wintry Mix', 'Light Rain', 'Cloudy', 'Mostly Cloudy',\n",
       "       'Partly Cloudy', 'Clear', 'Scattered Clouds', 'Fog', 'Overcast',\n",
       "       'Light Snow', 'T-Storm', 'Thunderstorms and Rain', 'Thunder',\n",
       "       'Light Rain with Thunder', 'Rain', 'Showers in the Vicinity',\n",
       "       'Mostly Cloudy / Windy', nan, 'Heavy Rain', 'Cloudy / Windy',\n",
       "       'Light Drizzle', 'Heavy T-Storm', 'Light Rain / Windy', 'Smoke',\n",
       "       'Haze', 'Blowing Dust / Windy', 'N/A Precipitation',\n",
       "       'Thunder in the Vicinity', 'Snow', 'Heavy Thunderstorms and Rain',\n",
       "       'Shallow Fog', 'Light Freezing Drizzle', 'Fair / Windy',\n",
       "       'Patches of Fog', 'Light Snow / Windy', 'Blowing Snow / Windy',\n",
       "       'Thunderstorm', 'Drizzle', 'T-Storm / Windy',\n",
       "       'Partly Cloudy / Windy', 'Heavy Rain / Windy',\n",
       "       'Heavy Snow / Windy', 'Mist', 'Light Thunderstorms and Rain',\n",
       "       'Rain / Windy', 'Light Freezing Rain', 'Heavy Snow',\n",
       "       'Light Ice Pellets', 'Heavy T-Storm / Windy', 'Heavy Drizzle',\n",
       "       'Sleet', 'Light Rain Shower', 'Haze / Windy', 'Snow and Sleet',\n",
       "       'Snow / Windy', 'Fog / Windy', 'Light Freezing Fog',\n",
       "       'Sleet / Windy', 'Light Sleet', 'Sand / Dust Whirlwinds',\n",
       "       'Squalls / Windy', 'Thunder / Wintry Mix', 'Light Haze',\n",
       "       'Freezing Drizzle', 'Light Hail', 'Blowing Snow', 'Blowing Dust',\n",
       "       'Drizzle and Fog', 'Thunder / Windy', 'Small Hail',\n",
       "       'Light Rain Showers', 'Ice Pellets', 'Funnel Cloud',\n",
       "       'Light Freezing Rain / Windy', 'Light Drizzle / Windy',\n",
       "       'Rain Shower', 'Partial Fog / Windy', 'Hail', 'Snow and Thunder',\n",
       "       'Rain Showers', 'Heavy Freezing Drizzle', 'Wintry Mix / Windy',\n",
       "       'Light Snow and Sleet', 'Freezing Rain', 'Light Snow Shower',\n",
       "       'Tornado', 'Widespread Dust', 'Light Snow with Thunder',\n",
       "       'Smoke / Windy', 'Widespread Dust / Windy', 'Light Snow Showers',\n",
       "       'Light Snow and Sleet / Windy', 'Snow and Sleet / Windy',\n",
       "       'Partial Fog', 'Drizzle / Windy', 'Heavy Sleet', 'Snow Grains',\n",
       "       'Squalls', 'Light Rain Shower / Windy',\n",
       "       'Light Thunderstorms and Snow', 'Light Snow Grains',\n",
       "       'Thunder and Hail', 'Drifting Snow / Windy', 'Volcanic Ash',\n",
       "       'Mist / Windy', 'Light Blowing Snow', 'Low Drifting Snow', 'Sand'],\n",
       "      dtype=object)"
      ]
     },
     "execution_count": 21,
     "metadata": {},
     "output_type": "execute_result"
    }
   ],
   "source": [
    "accidents_clean['weather_condition'].unique()"
   ]
  },
  {
   "cell_type": "markdown",
   "id": "6a3ba529",
   "metadata": {},
   "source": [
    "### This is strictly for seeing precipitation alone and testing stuff around it"
   ]
  },
  {
   "cell_type": "code",
   "execution_count": 22,
   "id": "d2485d4c",
   "metadata": {},
   "outputs": [],
   "source": [
    "null_precipitation_df = accidents_clean[accidents_clean['precipitation(in)'].isnull()]"
   ]
  },
  {
   "cell_type": "code",
   "execution_count": 23,
   "id": "6d13b4a8",
   "metadata": {},
   "outputs": [
    {
     "data": {
      "text/plain": [
       "array(['Clear', 'Scattered Clouds', 'Fair', 'Partly Cloudy',\n",
       "       'Mostly Cloudy', 'Overcast', 'Light Snow',\n",
       "       'Thunderstorms and Rain', 'Fog', 'Haze', 'Light Rain', 'Rain',\n",
       "       'Cloudy', 'Shallow Fog', 'Light Freezing Drizzle', 'Fair / Windy',\n",
       "       'Thunderstorm', nan, 'Drizzle', 'Mist',\n",
       "       'Heavy Thunderstorms and Rain', 'Heavy Rain', 'Smoke',\n",
       "       'Patches of Fog', 'Light Drizzle', 'Light Thunderstorms and Rain',\n",
       "       'Snow', 'Showers in the Vicinity', 'Light Freezing Rain',\n",
       "       'Light Ice Pellets', 'Haze / Windy', 'Rain / Windy',\n",
       "       'Partly Cloudy / Windy', 'Light Freezing Fog', 'Light Haze',\n",
       "       'Light Rain Shower', 'Heavy Snow / Windy', 'Heavy T-Storm',\n",
       "       'Cloudy / Windy', 'Thunder', 'T-Storm', 'Light Rain Showers',\n",
       "       'Blowing Snow', 'Rain Shower', 'Mostly Cloudy / Windy',\n",
       "       'Rain Showers', 'Heavy Freezing Drizzle',\n",
       "       'Light Rain with Thunder', 'Heavy Rain / Windy',\n",
       "       'Thunder in the Vicinity', 'Widespread Dust', 'Heavy Drizzle',\n",
       "       'Heavy Snow', 'Light Rain / Windy', 'Light Snow Showers',\n",
       "       'Blowing Dust / Windy', 'Light Snow / Windy', 'Blowing Dust',\n",
       "       'Smoke / Windy', 'N/A Precipitation', 'Light Snow Shower',\n",
       "       'Snow Grains', 'Squalls', 'Partial Fog', 'Volcanic Ash',\n",
       "       'Light Rain Shower / Windy', 'Mist / Windy', 'Small Hail',\n",
       "       'T-Storm / Windy', 'Ice Pellets', 'Low Drifting Snow', 'Sand'],\n",
       "      dtype=object)"
      ]
     },
     "execution_count": 23,
     "metadata": {},
     "output_type": "execute_result"
    }
   ],
   "source": [
    "null_precipitation_df['weather_condition'].unique()"
   ]
  },
  {
   "cell_type": "markdown",
   "id": "438e64ca",
   "metadata": {},
   "source": [
    "### Making the precipitation values that ideally have negligable precipitation 0"
   ]
  },
  {
   "cell_type": "code",
   "execution_count": 24,
   "id": "92a14523",
   "metadata": {},
   "outputs": [],
   "source": [
    "non_precipitation_weather = accidents_clean['weather_condition'].isin(['Clear',\n",
    "'Fair',\n",
    "'Partly Cloudy',\n",
    "'Mostly Cloudy',\n",
    "'Overcast',\n",
    "'Cloudy',\n",
    "'Fair / Windy',\n",
    "'Haze',\n",
    "'Haze / Windy',\n",
    "'Partly Cloudy / Windy',\n",
    "'Mostly Cloudy / Windy',\n",
    "'Cloudy / Windy',\n",
    "'Light Freezing Fog',\n",
    "'Light Haze',\n",
    "'Blowing Dust',\n",
    "'Smoke',\n",
    "'Blowing Dust / Windy',\n",
    "'Smoke / Windy',\n",
    "'N/A Precipitation',\n",
    "'Partial Fog',\n",
    "'Mist',\n",
    "'Mist / Windy',\n",
    "'Volcanic Ash']\n",
    "\n",
    ")\n"
   ]
  },
  {
   "cell_type": "code",
   "execution_count": 25,
   "id": "b9d2c929",
   "metadata": {},
   "outputs": [
    {
     "data": {
      "text/plain": [
       "severity                  0\n",
       "start_time                0\n",
       "city                     18\n",
       "state                     0\n",
       "visibility(mi)         2487\n",
       "precipitation(in)    133812\n",
       "weather_condition      2297\n",
       "dtype: int64"
      ]
     },
     "execution_count": 25,
     "metadata": {},
     "output_type": "execute_result"
    }
   ],
   "source": [
    "accidents_clean.isna().sum()"
   ]
  },
  {
   "cell_type": "code",
   "execution_count": 26,
   "id": "9dbad6b4",
   "metadata": {},
   "outputs": [],
   "source": [
    "accidents_clean.loc[non_precipitation_weather , 'precipitation(in)'] = 0"
   ]
  },
  {
   "cell_type": "code",
   "execution_count": 27,
   "id": "4ccb185d",
   "metadata": {},
   "outputs": [
    {
     "data": {
      "text/plain": [
       "severity                 0\n",
       "start_time               0\n",
       "city                    18\n",
       "state                    0\n",
       "visibility(mi)        2487\n",
       "precipitation(in)    16882\n",
       "weather_condition     2297\n",
       "dtype: int64"
      ]
     },
     "execution_count": 27,
     "metadata": {},
     "output_type": "execute_result"
    }
   ],
   "source": [
    "accidents_clean.isna().sum()"
   ]
  },
  {
   "cell_type": "code",
   "execution_count": 28,
   "id": "aaf16322",
   "metadata": {},
   "outputs": [],
   "source": [
    "null_precipitation_df = accidents_clean[accidents_clean['precipitation(in)'].isnull()]"
   ]
  },
  {
   "cell_type": "code",
   "execution_count": 29,
   "id": "6d3de8bb",
   "metadata": {},
   "outputs": [
    {
     "data": {
      "text/plain": [
       "array(['Scattered Clouds', 'Light Snow', 'Thunderstorms and Rain', 'Fog',\n",
       "       'Light Rain', 'Rain', 'Shallow Fog', 'Light Freezing Drizzle',\n",
       "       'Thunderstorm', nan, 'Drizzle', 'Heavy Thunderstorms and Rain',\n",
       "       'Heavy Rain', 'Patches of Fog', 'Light Drizzle',\n",
       "       'Light Thunderstorms and Rain', 'Snow', 'Showers in the Vicinity',\n",
       "       'Light Freezing Rain', 'Light Ice Pellets', 'Rain / Windy',\n",
       "       'Light Rain Shower', 'Heavy Snow / Windy', 'Heavy T-Storm',\n",
       "       'Thunder', 'T-Storm', 'Light Rain Showers', 'Blowing Snow',\n",
       "       'Rain Shower', 'Rain Showers', 'Heavy Freezing Drizzle',\n",
       "       'Light Rain with Thunder', 'Heavy Rain / Windy',\n",
       "       'Thunder in the Vicinity', 'Widespread Dust', 'Heavy Drizzle',\n",
       "       'Heavy Snow', 'Light Rain / Windy', 'Light Snow Showers',\n",
       "       'Light Snow / Windy', 'Light Snow Shower', 'Snow Grains',\n",
       "       'Squalls', 'Light Rain Shower / Windy', 'Small Hail',\n",
       "       'T-Storm / Windy', 'Ice Pellets', 'Low Drifting Snow', 'Sand'],\n",
       "      dtype=object)"
      ]
     },
     "execution_count": 29,
     "metadata": {},
     "output_type": "execute_result"
    }
   ],
   "source": [
    "null_precipitation_df['weather_condition'].unique()"
   ]
  },
  {
   "cell_type": "code",
   "execution_count": 30,
   "id": "3040199d",
   "metadata": {},
   "outputs": [],
   "source": [
    "accidents_clean = accidents_clean.dropna(how = 'all', subset = [ 'precipitation(in)' , 'weather_condition'])"
   ]
  },
  {
   "cell_type": "code",
   "execution_count": 31,
   "id": "c74272c7",
   "metadata": {},
   "outputs": [
    {
     "data": {
      "text/plain": [
       "severity                 0\n",
       "start_time               0\n",
       "city                    17\n",
       "state                    0\n",
       "visibility(mi)        2487\n",
       "precipitation(in)    16439\n",
       "weather_condition     1854\n",
       "dtype: int64"
      ]
     },
     "execution_count": 31,
     "metadata": {},
     "output_type": "execute_result"
    }
   ],
   "source": [
    "accidents_clean.isna().sum()"
   ]
  },
  {
   "cell_type": "code",
   "execution_count": 32,
   "id": "807d1a45",
   "metadata": {},
   "outputs": [],
   "source": [
    "accidents_clean = accidents_clean.dropna(how = 'all', subset = [ 'visibility(mi)' , 'weather_condition'])"
   ]
  },
  {
   "cell_type": "code",
   "execution_count": 33,
   "id": "3660c595",
   "metadata": {},
   "outputs": [
    {
     "data": {
      "text/plain": [
       "severity                 0\n",
       "start_time               0\n",
       "city                    17\n",
       "state                    0\n",
       "visibility(mi)        1309\n",
       "precipitation(in)    16439\n",
       "weather_condition      676\n",
       "dtype: int64"
      ]
     },
     "execution_count": 33,
     "metadata": {},
     "output_type": "execute_result"
    }
   ],
   "source": [
    "accidents_clean.isna().sum()"
   ]
  },
  {
   "cell_type": "code",
   "execution_count": 34,
   "id": "ebf20288",
   "metadata": {},
   "outputs": [],
   "source": [
    "accidents_clean = accidents_clean.dropna(how = 'all', subset = [ 'visibility(mi)' , 'precipitation(in)'])"
   ]
  },
  {
   "cell_type": "code",
   "execution_count": 35,
   "id": "092216a6",
   "metadata": {},
   "outputs": [
    {
     "data": {
      "text/plain": [
       "severity                 0\n",
       "start_time               0\n",
       "city                    17\n",
       "state                    0\n",
       "visibility(mi)        1272\n",
       "precipitation(in)    16402\n",
       "weather_condition      676\n",
       "dtype: int64"
      ]
     },
     "execution_count": 35,
     "metadata": {},
     "output_type": "execute_result"
    }
   ],
   "source": [
    "accidents_clean.isna().sum()"
   ]
  },
  {
   "cell_type": "code",
   "execution_count": 36,
   "id": "cf7e3606",
   "metadata": {},
   "outputs": [],
   "source": [
    "severity_df = accidents_clean['severity']"
   ]
  },
  {
   "cell_type": "code",
   "execution_count": 37,
   "id": "d719c25c",
   "metadata": {},
   "outputs": [
    {
     "data": {
      "text/plain": [
       "0    2\n",
       "1    2\n",
       "2    2\n",
       "3    2\n",
       "4    2\n",
       "Name: severity, dtype: int64"
      ]
     },
     "execution_count": 37,
     "metadata": {},
     "output_type": "execute_result"
    }
   ],
   "source": [
    "severity_df.head()"
   ]
  },
  {
   "cell_type": "code",
   "execution_count": 38,
   "id": "077cf95e",
   "metadata": {},
   "outputs": [
    {
     "data": {
      "text/plain": [
       "(489538,)"
      ]
     },
     "execution_count": 38,
     "metadata": {},
     "output_type": "execute_result"
    }
   ],
   "source": [
    "severity_df.shape"
   ]
  },
  {
   "cell_type": "code",
   "execution_count": 39,
   "id": "36fe039e",
   "metadata": {},
   "outputs": [
    {
     "data": {
      "text/plain": [
       "2.211805825084059"
      ]
     },
     "execution_count": 39,
     "metadata": {},
     "output_type": "execute_result"
    }
   ],
   "source": [
    "severity_df.mean()"
   ]
  },
  {
   "cell_type": "code",
   "execution_count": 56,
   "id": "b4be1e24",
   "metadata": {},
   "outputs": [],
   "source": [
    "severity_frequency = severity_df.value_counts()"
   ]
  },
  {
   "cell_type": "markdown",
   "id": "de6fb1b1",
   "metadata": {},
   "source": [
    "### Plotting stuff"
   ]
  },
  {
   "cell_type": "code",
   "execution_count": 73,
   "id": "d53aab85",
   "metadata": {},
   "outputs": [
    {
     "data": {
      "text/plain": [
       "Text(0, 0.5, 'Number of accidents')"
      ]
     },
     "execution_count": 73,
     "metadata": {},
     "output_type": "execute_result"
    },
    {
     "data": {
      "image/png": "[encoded data removed]",
      "text/plain": [
       "<Figure size 640x480 with 1 Axes>"
      ]
     },
     "metadata": {},
     "output_type": "display_data"
    }
   ],
   "source": [
    "plt.bar(severity_frequency.index, severity_frequency.values)\n",
    "plt.xlim(0, 5)\n",
    "plt.title('Number of occurrences given Severity')\n",
    "plt.xlabel('severity')\n",
    "plt.ylabel('Number of accidents')"
   ]
  },
  {
   "cell_type": "code",
   "execution_count": 42,
   "id": "1b7a8e52",
   "metadata": {},
   "outputs": [
    {
     "data": {
      "text/plain": [
       "array([0.000e+00,       nan, 9.000e-02, 7.000e-02, 1.800e-01, 1.100e-01,\n",
       "       2.000e-02, 1.000e-02, 4.000e-02, 1.360e+00, 1.300e-01, 1.000e-01,\n",
       "       5.000e-02, 3.000e-02, 8.000e-02, 8.200e-01, 1.500e-01, 5.800e-01,\n",
       "       1.700e-01, 1.200e-01, 2.200e-01, 2.900e-01, 2.400e-01, 4.500e-01,\n",
       "       5.200e-01, 6.000e-02, 4.100e-01, 1.400e-01, 8.800e-01, 1.900e-01,\n",
       "       3.800e-01, 1.600e-01, 3.600e-01, 2.000e-01, 3.900e-01, 2.500e-01,\n",
       "       3.200e-01, 2.600e-01, 3.400e-01, 2.800e-01, 7.900e-01, 2.700e-01,\n",
       "       3.500e-01, 6.700e-01, 9.800e-01, 2.100e-01, 2.160e+00, 4.300e-01,\n",
       "       5.900e-01, 1.110e+00, 3.100e-01, 8.500e-01, 3.000e-01, 3.700e-01,\n",
       "       4.000e-01, 4.400e-01, 7.100e-01, 6.600e-01, 2.300e-01, 5.300e-01,\n",
       "       5.000e-01, 3.300e-01, 8.300e-01, 9.900e-01, 4.200e-01, 1.200e+00,\n",
       "       4.600e-01, 5.700e-01, 7.500e-01, 5.100e-01, 1.560e+00, 1.280e+00,\n",
       "       7.600e-01, 6.400e-01, 9.700e-01, 5.400e-01, 5.600e-01, 1.990e+00,\n",
       "       1.050e+00, 1.460e+00, 4.700e-01, 7.000e-01, 6.000e-01, 7.200e-01,\n",
       "       6.200e-01, 6.100e-01, 4.900e-01, 1.030e+00, 6.500e-01, 1.190e+00,\n",
       "       9.100e-01, 9.500e-01, 8.900e-01, 6.900e-01, 2.260e+00, 1.170e+00,\n",
       "       9.600e-01, 1.570e+00, 7.400e-01, 5.500e-01, 1.400e+00, 1.013e+01,\n",
       "       2.010e+00, 1.160e+00, 4.800e-01, 6.800e-01, 7.800e-01, 1.260e+00,\n",
       "       1.020e+00, 6.300e-01, 1.530e+00, 1.670e+00, 1.470e+00, 1.060e+00,\n",
       "       1.130e+00, 1.640e+00, 9.990e+00, 1.580e+00, 9.400e-01, 7.300e-01,\n",
       "       1.270e+00, 8.000e-01, 9.000e-01, 1.430e+00, 1.210e+00, 9.960e+00,\n",
       "       7.700e-01, 1.920e+00, 8.600e-01, 1.140e+00, 1.520e+00, 1.380e+00,\n",
       "       1.310e+00, 1.950e+00, 1.680e+00, 1.490e+00, 9.200e-01, 2.570e+00,\n",
       "       1.010e+00, 1.040e+00, 2.130e+00, 1.120e+00, 8.400e-01, 1.300e+00,\n",
       "       1.000e+00, 2.800e+00, 1.090e+00, 8.700e-01, 2.550e+00, 1.220e+00,\n",
       "       8.100e-01, 1.370e+00, 1.540e+00, 1.290e+00, 2.390e+00, 2.440e+00,\n",
       "       1.240e+00, 1.230e+00, 2.310e+00, 1.150e+00, 1.890e+00, 1.350e+00,\n",
       "       1.390e+00, 1.080e+00])"
      ]
     },
     "execution_count": 42,
     "metadata": {},
     "output_type": "execute_result"
    }
   ],
   "source": [
    "accidents_clean['precipitation(in)'].unique()"
   ]
  },
  {
   "cell_type": "code",
   "execution_count": 43,
   "id": "837bbee4",
   "metadata": {},
   "outputs": [],
   "source": [
    "accidents_clean = accidents_clean.dropna(how = 'all', subset = ['precipitation(in)'])"
   ]
  },
  {
   "cell_type": "code",
   "execution_count": 44,
   "id": "61a8ad0e",
   "metadata": {},
   "outputs": [
    {
     "data": {
      "text/plain": [
       "severity                0\n",
       "start_time              0\n",
       "city                   17\n",
       "state                   0\n",
       "visibility(mi)       1272\n",
       "precipitation(in)       0\n",
       "weather_condition     676\n",
       "dtype: int64"
      ]
     },
     "execution_count": 44,
     "metadata": {},
     "output_type": "execute_result"
    }
   ],
   "source": [
    "accidents_clean.isna().sum()"
   ]
  },
  {
   "cell_type": "code",
   "execution_count": 71,
   "id": "8d8efaf9",
   "metadata": {},
   "outputs": [
    {
     "data": {
      "text/plain": [
       "Text(0, 0.5, 'Precipitation(in)')"
      ]
     },
     "execution_count": 71,
     "metadata": {},
     "output_type": "execute_result"
    },
    {
     "data": {
      "image/png": "[encoded data removed]",
      "text/plain": [
       "<Figure size 640x480 with 1 Axes>"
      ]
     },
     "metadata": {},
     "output_type": "display_data"
    }
   ],
   "source": [
    "plt.scatter(accidents_clean['severity'], accidents_clean['precipitation(in)'])\n",
    "plt.xlim(0,5)\n",
    "plt.title('Severity vs Precipitation')\n",
    "plt.xlabel('Severity')\n",
    "plt.ylabel('Precipitation(in)')"
   ]
  },
  {
   "cell_type": "code",
   "execution_count": 69,
   "id": "211c3995",
   "metadata": {},
   "outputs": [
    {
     "data": {
      "text/plain": [
       "Text(0, 0.5, 'Precipitation(in)')"
      ]
     },
     "execution_count": 69,
     "metadata": {},
     "output_type": "execute_result"
    },
    {
     "data": {
      "image/png": "[encoded data removed]",
      "text/plain": [
       "<Figure size 640x480 with 1 Axes>"
      ]
     },
     "metadata": {},
     "output_type": "display_data"
    }
   ],
   "source": [
    "plt.scatter(accidents_clean['severity'], accidents_clean['precipitation(in)'])\n",
    "plt.xlim(0,5)\n",
    "plt.ylim(-0.5,4)\n",
    "plt.title('Severity vs Precipitation (Zoomed in)')\n",
    "plt.xlabel('Severity')\n",
    "plt.ylabel('Precipitation(in)')"
   ]
  },
  {
   "cell_type": "code",
   "execution_count": 53,
   "id": "c8bf05e9",
   "metadata": {},
   "outputs": [],
   "source": [
    "weather_condition_df=accidents_clean.dropna(how = 'all', subset = ['weather_condition'])"
   ]
  },
  {
   "cell_type": "code",
   "execution_count": 54,
   "id": "00b539a4",
   "metadata": {},
   "outputs": [
    {
     "data": {
      "text/plain": [
       "severity                0\n",
       "start_time              0\n",
       "city                   17\n",
       "state                   0\n",
       "visibility(mi)       1272\n",
       "precipitation(in)       0\n",
       "weather_condition       0\n",
       "dtype: int64"
      ]
     },
     "execution_count": 54,
     "metadata": {},
     "output_type": "execute_result"
    }
   ],
   "source": [
    "weather_condition_df.isna().sum()"
   ]
  },
  {
   "cell_type": "code",
   "execution_count": 55,
   "id": "cc63ce5b",
   "metadata": {},
   "outputs": [],
   "source": [
    "weather_condition_df = weather_condition_df['weather_condition']"
   ]
  },
  {
   "cell_type": "code",
   "execution_count": 57,
   "id": "d20068cc",
   "metadata": {},
   "outputs": [],
   "source": [
    "weather_frequency = weather_condition_df.value_counts()"
   ]
  },
  {
   "cell_type": "code",
   "execution_count": 74,
   "id": "01a195cd",
   "metadata": {},
   "outputs": [
    {
     "data": {
      "text/plain": [
       "Text(0, 0.5, 'Number of accidents')"
      ]
     },
     "execution_count": 74,
     "metadata": {},
     "output_type": "execute_result"
    },
    {
     "data": {
      "image/png": "[encoded data removed]",
      "text/plain": [
       "<Figure size 640x480 with 1 Axes>"
      ]
     },
     "metadata": {},
     "output_type": "display_data"
    }
   ],
   "source": [
    "plt.bar(weather_frequency.index, weather_frequency.values)\n",
    "plt.xlim(0, 10)\n",
    "plt.xticks(rotation=45, ha='right')\n",
    "plt.title('First Ten Most common occurences of accidents given Weather')\n",
    "plt.xlabel('Weather')\n",
    "plt.ylabel('Number of accidents')"
   ]
  },
  {
   "cell_type": "code",
   "execution_count": null,
   "id": "2dc5d58b",
   "metadata": {},
   "outputs": [],
   "source": []
  }
 ],
 "metadata": {
  "kernelspec": {
   "display_name": "Python 3 (ipykernel)",
   "language": "python",
   "name": "python3"
  },
  "language_info": {
   "codemirror_mode": {
    "name": "ipython",
    "version": 3
   },
   "file_extension": ".py",
   "mimetype": "text/x-python",
   "name": "python",
   "nbconvert_exporter": "python",
   "pygments_lexer": "ipython3",
   "version": "3.11.5"
  }
 },
 "nbformat": 4,
 "nbformat_minor": 5
}
